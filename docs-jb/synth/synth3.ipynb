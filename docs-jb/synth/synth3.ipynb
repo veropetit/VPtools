{
 "cells": [
  {
   "cell_type": "markdown",
   "id": "014e785b",
   "metadata": {},
   "source": [
    "# Using synth3 synthetic spectra"
   ]
  },
  {
   "cell_type": "code",
   "execution_count": 1,
   "id": "c90951ec",
   "metadata": {},
   "outputs": [],
   "source": [
    "import VPtools as vp\n",
    "import matplotlib.pyplot as plt\n",
    "\n",
    "path_google='G:/Shared drives/'"
   ]
  },
  {
   "cell_type": "markdown",
   "id": "dc192f0a",
   "metadata": {},
   "source": [
    "## 1. How to access the synthetic spectra\n",
    "\n",
    "The synth3 software was designed by Oleg Kochukhov (see: https://ui.adsabs.harvard.edu/abs/2012ascl.soft12010K/abstract) to calculate normalized synthetic spectra from VALD line lists and Kurucz format model atmospheres. Oleg later gave us a \"hack\" to have synth3 output continuum spectra. \n",
    "\n",
    "We have a set of precomputed synth3 spectra (and continuum spectra) on the ResearchGroupResources Google Drive at ReferenceMaterial/synth3\n",
    "\n",
    "NOTE: The Kurucz atmosphere models and VALD line lists are not highly accurate at temperatures above 15000 K\n"
   ]
  },
  {
   "cell_type": "markdown",
   "id": "5b9d45eb",
   "metadata": {},
   "source": [
    "We have a csv table on the google drive, that lists all of the models we have calculated so far."
   ]
  },
  {
   "cell_type": "code",
   "execution_count": 2,
   "id": "e4310d2a",
   "metadata": {},
   "outputs": [
    {
     "data": {
      "text/html": [
       "<div>\n",
       "<style scoped>\n",
       "    .dataframe tbody tr th:only-of-type {\n",
       "        vertical-align: middle;\n",
       "    }\n",
       "\n",
       "    .dataframe tbody tr th {\n",
       "        vertical-align: top;\n",
       "    }\n",
       "\n",
       "    .dataframe thead th {\n",
       "        text-align: right;\n",
       "    }\n",
       "</style>\n",
       "<table border=\"1\" class=\"dataframe\">\n",
       "  <thead>\n",
       "    <tr style=\"text-align: right;\">\n",
       "      <th></th>\n",
       "      <th>ModelCode</th>\n",
       "      <th>Teff</th>\n",
       "      <th>log(g)</th>\n",
       "      <th>vsini</th>\n",
       "      <th>vmicro</th>\n",
       "      <th>vmac</th>\n",
       "      <th>depth cutoff</th>\n",
       "      <th>wl start air [nm]</th>\n",
       "      <th>wl stop air [nm]</th>\n",
       "      <th>R</th>\n",
       "    </tr>\n",
       "  </thead>\n",
       "  <tbody>\n",
       "    <tr>\n",
       "      <th>0</th>\n",
       "      <td>T31000G40</td>\n",
       "      <td>31000</td>\n",
       "      <td>4.0</td>\n",
       "      <td>0</td>\n",
       "      <td>2</td>\n",
       "      <td>2</td>\n",
       "      <td>0.01</td>\n",
       "      <td>370</td>\n",
       "      <td>900</td>\n",
       "      <td>65000</td>\n",
       "    </tr>\n",
       "    <tr>\n",
       "      <th>1</th>\n",
       "      <td>T30000G40</td>\n",
       "      <td>30000</td>\n",
       "      <td>4.0</td>\n",
       "      <td>0</td>\n",
       "      <td>2</td>\n",
       "      <td>2</td>\n",
       "      <td>0.01</td>\n",
       "      <td>370</td>\n",
       "      <td>900</td>\n",
       "      <td>65000</td>\n",
       "    </tr>\n",
       "    <tr>\n",
       "      <th>2</th>\n",
       "      <td>T29000G40</td>\n",
       "      <td>29000</td>\n",
       "      <td>4.0</td>\n",
       "      <td>0</td>\n",
       "      <td>2</td>\n",
       "      <td>2</td>\n",
       "      <td>0.01</td>\n",
       "      <td>370</td>\n",
       "      <td>900</td>\n",
       "      <td>65000</td>\n",
       "    </tr>\n",
       "    <tr>\n",
       "      <th>3</th>\n",
       "      <td>T28000G40</td>\n",
       "      <td>28000</td>\n",
       "      <td>4.0</td>\n",
       "      <td>0</td>\n",
       "      <td>2</td>\n",
       "      <td>2</td>\n",
       "      <td>0.01</td>\n",
       "      <td>370</td>\n",
       "      <td>900</td>\n",
       "      <td>65000</td>\n",
       "    </tr>\n",
       "    <tr>\n",
       "      <th>4</th>\n",
       "      <td>T28000G35</td>\n",
       "      <td>28000</td>\n",
       "      <td>3.5</td>\n",
       "      <td>0</td>\n",
       "      <td>2</td>\n",
       "      <td>2</td>\n",
       "      <td>0.01</td>\n",
       "      <td>370</td>\n",
       "      <td>900</td>\n",
       "      <td>65000</td>\n",
       "    </tr>\n",
       "    <tr>\n",
       "      <th>...</th>\n",
       "      <td>...</td>\n",
       "      <td>...</td>\n",
       "      <td>...</td>\n",
       "      <td>...</td>\n",
       "      <td>...</td>\n",
       "      <td>...</td>\n",
       "      <td>...</td>\n",
       "      <td>...</td>\n",
       "      <td>...</td>\n",
       "      <td>...</td>\n",
       "    </tr>\n",
       "    <tr>\n",
       "      <th>61</th>\n",
       "      <td>T07500G40</td>\n",
       "      <td>7500</td>\n",
       "      <td>4.0</td>\n",
       "      <td>0</td>\n",
       "      <td>2</td>\n",
       "      <td>2</td>\n",
       "      <td>0.01</td>\n",
       "      <td>370</td>\n",
       "      <td>900</td>\n",
       "      <td>65000</td>\n",
       "    </tr>\n",
       "    <tr>\n",
       "      <th>62</th>\n",
       "      <td>T07500G35</td>\n",
       "      <td>7500</td>\n",
       "      <td>3.5</td>\n",
       "      <td>0</td>\n",
       "      <td>2</td>\n",
       "      <td>2</td>\n",
       "      <td>0.01</td>\n",
       "      <td>370</td>\n",
       "      <td>900</td>\n",
       "      <td>65000</td>\n",
       "    </tr>\n",
       "    <tr>\n",
       "      <th>63</th>\n",
       "      <td>T07000G45</td>\n",
       "      <td>7000</td>\n",
       "      <td>4.5</td>\n",
       "      <td>0</td>\n",
       "      <td>2</td>\n",
       "      <td>2</td>\n",
       "      <td>0.01</td>\n",
       "      <td>370</td>\n",
       "      <td>900</td>\n",
       "      <td>65000</td>\n",
       "    </tr>\n",
       "    <tr>\n",
       "      <th>64</th>\n",
       "      <td>T07000G40</td>\n",
       "      <td>7000</td>\n",
       "      <td>4.0</td>\n",
       "      <td>0</td>\n",
       "      <td>2</td>\n",
       "      <td>2</td>\n",
       "      <td>0.01</td>\n",
       "      <td>370</td>\n",
       "      <td>900</td>\n",
       "      <td>65000</td>\n",
       "    </tr>\n",
       "    <tr>\n",
       "      <th>65</th>\n",
       "      <td>T07000G35</td>\n",
       "      <td>7000</td>\n",
       "      <td>3.5</td>\n",
       "      <td>0</td>\n",
       "      <td>2</td>\n",
       "      <td>2</td>\n",
       "      <td>0.01</td>\n",
       "      <td>370</td>\n",
       "      <td>900</td>\n",
       "      <td>65000</td>\n",
       "    </tr>\n",
       "  </tbody>\n",
       "</table>\n",
       "<p>66 rows × 10 columns</p>\n",
       "</div>"
      ],
      "text/plain": [
       "    ModelCode   Teff  log(g)  vsini  vmicro  vmac  depth cutoff  \\\n",
       "0   T31000G40  31000     4.0      0       2     2          0.01   \n",
       "1   T30000G40  30000     4.0      0       2     2          0.01   \n",
       "2   T29000G40  29000     4.0      0       2     2          0.01   \n",
       "3   T28000G40  28000     4.0      0       2     2          0.01   \n",
       "4   T28000G35  28000     3.5      0       2     2          0.01   \n",
       "..        ...    ...     ...    ...     ...   ...           ...   \n",
       "61  T07500G40   7500     4.0      0       2     2          0.01   \n",
       "62  T07500G35   7500     3.5      0       2     2          0.01   \n",
       "63  T07000G45   7000     4.5      0       2     2          0.01   \n",
       "64  T07000G40   7000     4.0      0       2     2          0.01   \n",
       "65  T07000G35   7000     3.5      0       2     2          0.01   \n",
       "\n",
       "    wl start air [nm]  wl stop air [nm]      R  \n",
       "0                 370               900  65000  \n",
       "1                 370               900  65000  \n",
       "2                 370               900  65000  \n",
       "3                 370               900  65000  \n",
       "4                 370               900  65000  \n",
       "..                ...               ...    ...  \n",
       "61                370               900  65000  \n",
       "62                370               900  65000  \n",
       "63                370               900  65000  \n",
       "64                370               900  65000  \n",
       "65                370               900  65000  \n",
       "\n",
       "[66 rows x 10 columns]"
      ]
     },
     "metadata": {},
     "output_type": "display_data"
    }
   ],
   "source": [
    "table = vp.synth3.get_table_synth3()\n",
    "display(table)"
   ]
  },
  {
   "cell_type": "markdown",
   "id": "8b002c92",
   "metadata": {},
   "source": [
    "The column \"ModelCode\" gives the root of the file name. This is simply the temperature and logg*10 of the model.\n",
    "\n",
    "We have also included a template to access the files."
   ]
  },
  {
   "cell_type": "code",
   "execution_count": 3,
   "id": "abffd5be",
   "metadata": {},
   "outputs": [
    {
     "name": "stdout",
     "output_type": "stream",
     "text": [
      "ResearchGroupResources-Files/ReferenceMaterial/synth3/0vsiniSpec/T{0}G{1}\n"
     ]
    }
   ],
   "source": [
    "print(vp.synth3.synth3_path_name)"
   ]
  },
  {
   "cell_type": "markdown",
   "id": "ff21cd00",
   "metadata": {},
   "source": [
    "Using the `format` function you can pass the template a temperature and logg to obtain the file path"
   ]
  },
  {
   "cell_type": "code",
   "execution_count": 6,
   "id": "cb38c679",
   "metadata": {},
   "outputs": [],
   "source": [
    "my_model_name = vp.synth3.synth3_path_name.format('12000','40')"
   ]
  },
  {
   "cell_type": "markdown",
   "id": "f7073489",
   "metadata": {},
   "source": [
    "## 2. How to read in a synthetic spectum\n",
    "\n",
    "We can read in the synthetic spectra by using the `read` function and passing the model name above."
   ]
  },
  {
   "cell_type": "code",
   "execution_count": 7,
   "id": "259fce23",
   "metadata": {},
   "outputs": [],
   "source": [
    "spec_norm, spec_con = vp.synth3.read(path_google+my_model_name)"
   ]
  },
  {
   "cell_type": "code",
   "execution_count": 8,
   "id": "b1882c44",
   "metadata": {},
   "outputs": [
    {
     "data": {
      "text/plain": [
       "[<matplotlib.lines.Line2D at 0x1ce08a51f90>]"
      ]
     },
     "execution_count": 8,
     "metadata": {},
     "output_type": "execute_result"
    },
    {
     "data": {
      "image/png": "[encoded data removed]",
      "text/plain": [
       "<Figure size 640x480 with 1 Axes>"
      ]
     },
     "metadata": {},
     "output_type": "display_data"
    },
    {
     "data": {
      "image/png": "[encoded data removed]",
      "text/plain": [
       "<Figure size 640x480 with 1 Axes>"
      ]
     },
     "metadata": {},
     "output_type": "display_data"
    }
   ],
   "source": [
    "fig, ax = plt.subplots(1,1)\n",
    "ax.plot(spec_norm.wl, spec_norm.specI)\n",
    "\n",
    "fig, ax = plt.subplots(1,1)\n",
    "ax.plot(spec_con.wl, spec_con.specI)\n"
   ]
  }
 ],
 "metadata": {
  "kernelspec": {
   "display_name": "base",
   "language": "python",
   "name": "python3"
  },
  "language_info": {
   "codemirror_mode": {
    "name": "ipython",
    "version": 3
   },
   "file_extension": ".py",
   "mimetype": "text/x-python",
   "name": "python",
   "nbconvert_exporter": "python",
   "pygments_lexer": "ipython3",
   "version": "3.11.3"
  }
 },
 "nbformat": 4,
 "nbformat_minor": 5
}
