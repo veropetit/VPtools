{
 "cells": [
  {
   "cell_type": "markdown",
   "metadata": {},
   "source": [
    "# Using poWR synthetic spectra"
   ]
  },
  {
   "cell_type": "code",
   "execution_count": 1,
   "metadata": {},
   "outputs": [],
   "source": [
    "import VPtools as vp\n",
    "import matplotlib.pyplot as plt\n",
    "\n",
    "path_google = '/Users/vpetit/Library/CloudStorage/GoogleDrive-vpetit@udel.edu/Shared drives/'\n"
   ]
  },
  {
   "cell_type": "markdown",
   "metadata": {},
   "source": [
    "## 1. How to access the synthetic spectra"
   ]
  },
  {
   "cell_type": "markdown",
   "metadata": {},
   "source": [
    "The synthetic spectra can be downloaded from the PoWR website: https://www.astro.physik.uni-potsdam.de/PoWR/powrgrid1.php\n",
    "\n",
    "These are non-LTE models with winds. \n",
    ":::{warning}\n",
    "These models include wind lines -- therefore doing a rotation convolution will not be acurate for these lines, and for absorption lines that might be close the them. \n",
    ":::\n",
    "\n",
    "ADD LINK TO PAPERS\n",
    "\n",
    "We have a copy of these grids on the ResearchGroupResources Google Drive at ReferenceMaterial/poWR\n",
    "* griddl-gal-ob-vd3-line_NIR\n",
    "* griddl-gal-ob-vd3-line_VIS"
   ]
  },
  {
   "cell_type": "markdown",
   "metadata": {},
   "source": [
    "We have a csv table on the google drive, that lists all of the models available"
   ]
  },
  {
   "cell_type": "code",
   "execution_count": 2,
   "metadata": {},
   "outputs": [
    {
     "data": {
      "text/html": [
       "<div>\n",
       "<style scoped>\n",
       "    .dataframe tbody tr th:only-of-type {\n",
       "        vertical-align: middle;\n",
       "    }\n",
       "\n",
       "    .dataframe tbody tr th {\n",
       "        vertical-align: top;\n",
       "    }\n",
       "\n",
       "    .dataframe thead th {\n",
       "        text-align: right;\n",
       "    }\n",
       "</style>\n",
       "<table border=\"1\" class=\"dataframe\">\n",
       "  <thead>\n",
       "    <tr style=\"text-align: right;\">\n",
       "      <th></th>\n",
       "      <th>MODEL</th>\n",
       "      <th>T_EFF</th>\n",
       "      <th>R_TRANS</th>\n",
       "      <th>MASS</th>\n",
       "      <th>LOG G</th>\n",
       "      <th>LOG L</th>\n",
       "      <th>LOG MDOT</th>\n",
       "      <th>V_INF</th>\n",
       "    </tr>\n",
       "  </thead>\n",
       "  <tbody>\n",
       "    <tr>\n",
       "      <th>0</th>\n",
       "      <td>NAME</td>\n",
       "      <td>[K]</td>\n",
       "      <td>[R_SUN]</td>\n",
       "      <td>[M_SUN]</td>\n",
       "      <td>[CGS]</td>\n",
       "      <td>[L_SUN]</td>\n",
       "      <td>[M_SUN/YR]</td>\n",
       "      <td>[KM/S]</td>\n",
       "    </tr>\n",
       "    <tr>\n",
       "      <th>1</th>\n",
       "      <td>15-20</td>\n",
       "      <td>15000</td>\n",
       "      <td>20.9504</td>\n",
       "      <td>32</td>\n",
       "      <td>2</td>\n",
       "      <td>5.6</td>\n",
       "      <td>-4.6</td>\n",
       "      <td>210</td>\n",
       "    </tr>\n",
       "    <tr>\n",
       "      <th>2</th>\n",
       "      <td>15-22</td>\n",
       "      <td>15000</td>\n",
       "      <td>318.4365</td>\n",
       "      <td>23.8</td>\n",
       "      <td>2.2</td>\n",
       "      <td>5.27</td>\n",
       "      <td>-6.3</td>\n",
       "      <td>439</td>\n",
       "    </tr>\n",
       "    <tr>\n",
       "      <th>3</th>\n",
       "      <td>15-24</td>\n",
       "      <td>15000</td>\n",
       "      <td>502.3408</td>\n",
       "      <td>18</td>\n",
       "      <td>2.4</td>\n",
       "      <td>4.95</td>\n",
       "      <td>-6.8</td>\n",
       "      <td>478</td>\n",
       "    </tr>\n",
       "    <tr>\n",
       "      <th>4</th>\n",
       "      <td>15-26</td>\n",
       "      <td>15000</td>\n",
       "      <td>903.4271</td>\n",
       "      <td>13.4</td>\n",
       "      <td>2.6</td>\n",
       "      <td>4.62</td>\n",
       "      <td>-7.4</td>\n",
       "      <td>512</td>\n",
       "    </tr>\n",
       "    <tr>\n",
       "      <th>...</th>\n",
       "      <td>...</td>\n",
       "      <td>...</td>\n",
       "      <td>...</td>\n",
       "      <td>...</td>\n",
       "      <td>...</td>\n",
       "      <td>...</td>\n",
       "      <td>...</td>\n",
       "      <td>...</td>\n",
       "    </tr>\n",
       "    <tr>\n",
       "      <th>239</th>\n",
       "      <td>52-42</td>\n",
       "      <td>52000</td>\n",
       "      <td>114.9568</td>\n",
       "      <td>86.3</td>\n",
       "      <td>4.2</td>\n",
       "      <td>5.99</td>\n",
       "      <td>-5.8</td>\n",
       "      <td>3618</td>\n",
       "    </tr>\n",
       "    <tr>\n",
       "      <th>240</th>\n",
       "      <td>53-42</td>\n",
       "      <td>53000</td>\n",
       "      <td>103.2947</td>\n",
       "      <td>94</td>\n",
       "      <td>4.2</td>\n",
       "      <td>6.06</td>\n",
       "      <td>-5.7</td>\n",
       "      <td>3640</td>\n",
       "    </tr>\n",
       "    <tr>\n",
       "      <th>241</th>\n",
       "      <td>54-42</td>\n",
       "      <td>54000</td>\n",
       "      <td>93.9893</td>\n",
       "      <td>104.9</td>\n",
       "      <td>4.2</td>\n",
       "      <td>6.14</td>\n",
       "      <td>-5.6</td>\n",
       "      <td>3664</td>\n",
       "    </tr>\n",
       "    <tr>\n",
       "      <th>242</th>\n",
       "      <td>55-42</td>\n",
       "      <td>55000</td>\n",
       "      <td>85.7949</td>\n",
       "      <td>117.1</td>\n",
       "      <td>4.2</td>\n",
       "      <td>6.22</td>\n",
       "      <td>-5.5</td>\n",
       "      <td>3702</td>\n",
       "    </tr>\n",
       "    <tr>\n",
       "      <th>243</th>\n",
       "      <td>56-42</td>\n",
       "      <td>56000</td>\n",
       "      <td>80.5433</td>\n",
       "      <td>137.2</td>\n",
       "      <td>4.2</td>\n",
       "      <td>6.32</td>\n",
       "      <td>-5.4</td>\n",
       "      <td>3765</td>\n",
       "    </tr>\n",
       "  </tbody>\n",
       "</table>\n",
       "<p>244 rows × 8 columns</p>\n",
       "</div>"
      ],
      "text/plain": [
       "     MODEL  T_EFF   R_TRANS     MASS  LOG G    LOG L    LOG MDOT   V_INF\n",
       "0     NAME    [K]   [R_SUN]  [M_SUN]  [CGS]  [L_SUN]  [M_SUN/YR]  [KM/S]\n",
       "1    15-20  15000   20.9504       32      2      5.6        -4.6     210\n",
       "2    15-22  15000  318.4365     23.8    2.2     5.27        -6.3     439\n",
       "3    15-24  15000  502.3408       18    2.4     4.95        -6.8     478\n",
       "4    15-26  15000  903.4271     13.4    2.6     4.62        -7.4     512\n",
       "..     ...    ...       ...      ...    ...      ...         ...     ...\n",
       "239  52-42  52000  114.9568     86.3    4.2     5.99        -5.8    3618\n",
       "240  53-42  53000  103.2947       94    4.2     6.06        -5.7    3640\n",
       "241  54-42  54000   93.9893    104.9    4.2     6.14        -5.6    3664\n",
       "242  55-42  55000   85.7949    117.1    4.2     6.22        -5.5    3702\n",
       "243  56-42  56000   80.5433    137.2    4.2     6.32        -5.4    3765\n",
       "\n",
       "[244 rows x 8 columns]"
      ]
     },
     "metadata": {},
     "output_type": "display_data"
    }
   ],
   "source": [
    "table = vp.poWR.get_table_gal()\n",
    "display(table)"
   ]
  },
  {
   "cell_type": "markdown",
   "metadata": {},
   "source": [
    "The column \"MODEL\" gives the name that shows up in the file name. The first number is the effective temparature (in hundreds of kelvins) and the other number is the log(g) times 10.\n",
    "\n",
    "So the model with $T_\\mathrm{eff}=15,000K$ and $\\log(g)=4.2$ is `15-42`.\n",
    "\n",
    "The file paths and names might be a bit difficult to remember, so we have a template path/name that we can access in the module:"
   ]
  },
  {
   "cell_type": "code",
   "execution_count": 3,
   "metadata": {},
   "outputs": [
    {
     "name": "stdout",
     "output_type": "stream",
     "text": [
      "ResearchGroupResources-Files/ReferenceMaterial/poWR/griddl-gal-ob-vd3-line_{}/gal-ob-vd3_{}_line.txt\n"
     ]
    }
   ],
   "source": [
    "print(vp.poWR.gal_path_name)"
   ]
  },
  {
   "cell_type": "markdown",
   "metadata": {},
   "source": [
    "and you can use the `format` function to add the model name and the wavelenght range that you would like to use."
   ]
  },
  {
   "cell_type": "code",
   "execution_count": 4,
   "metadata": {},
   "outputs": [
    {
     "name": "stdout",
     "output_type": "stream",
     "text": [
      "ResearchGroupResources-Files/ReferenceMaterial/poWR/griddl-gal-ob-vd3-line_NIR/gal-ob-vd3_15-24_line.txt\n"
     ]
    }
   ],
   "source": [
    "my_model_name = vp.poWR.gal_path_name.format('NIR','15-24')\n",
    "print(my_model_name)"
   ]
  },
  {
   "cell_type": "markdown",
   "metadata": {},
   "source": [
    "## 2. How to read in a synthetic spectrum"
   ]
  },
  {
   "cell_type": "markdown",
   "metadata": {},
   "source": [
    "We can read in one of the synthetic spectrum using the `read` function in the `poWR` module."
   ]
  },
  {
   "cell_type": "code",
   "execution_count": 5,
   "metadata": {},
   "outputs": [],
   "source": [
    "spec = vp.poWR.read(path_google+my_model_name)"
   ]
  },
  {
   "cell_type": "code",
   "execution_count": 6,
   "metadata": {},
   "outputs": [
    {
     "data": {
      "text/plain": [
       "[<matplotlib.lines.Line2D at 0x138056730>]"
      ]
     },
     "execution_count": 6,
     "metadata": {},
     "output_type": "execute_result"
    },
    {
     "data": {
      "image/png": "[encoded data removed]",
      "text/plain": [
       "<Figure size 640x480 with 1 Axes>"
      ]
     },
     "metadata": {},
     "output_type": "display_data"
    }
   ],
   "source": [
    "fig, ax = plt.subplots(1,1)\n",
    "\n",
    "ax.plot(spec.wl, spec.specI)"
   ]
  }
 ],
 "metadata": {
  "kernelspec": {
   "display_name": "py39",
   "language": "python",
   "name": "python3"
  },
  "language_info": {
   "codemirror_mode": {
    "name": "ipython",
    "version": 3
   },
   "file_extension": ".py",
   "mimetype": "text/x-python",
   "name": "python",
   "nbconvert_exporter": "python",
   "pygments_lexer": "ipython3",
   "version": "3.9.18"
  }
 },
 "nbformat": 4,
 "nbformat_minor": 2
}
