{
 "cells": [
  {
   "cell_type": "markdown",
   "metadata": {},
   "source": [
    "# Using CMFGEN synthetic spectra"
   ]
  },
  {
   "cell_type": "code",
   "execution_count": 1,
   "metadata": {},
   "outputs": [],
   "source": [
    "import VPtools as vp\n",
    "import matplotlib.pyplot as plt\n",
    "\n",
    "path_google = '/Users/vpetit/Library/CloudStorage/GoogleDrive-vpetit@udel.edu/Shared drives/'"
   ]
  },
  {
   "cell_type": "markdown",
   "metadata": {},
   "source": [
    "## 1. How to access the synthetic spectra"
   ]
  },
  {
   "cell_type": "markdown",
   "metadata": {},
   "source": [
    "The synthetic spectra can be downloaded from the Pollux database: https://pollux.oreme.org/collections/\n",
    "\n",
    "These are non-LTE models with winds. \n",
    ":::{warning}\n",
    "These models include wind lines -- therefore doing a rotation convolution will not be acurate for these lines, and for absorption lines that might be close the them. \n",
    ":::\n",
    "\n",
    "ADD LINK TO PAPERS\n",
    "\n",
    "We have a copy of these grids on the  ResearchGroupResources Google Drive at ReferenceMaterial/CMFGEN\n",
    "* CMFGEN (we call it the CMFGEN-OB on the drive)\n",
    "\n",
    "There are also other grids available for SMC and LMC metallicities on the Pollux database\n"
   ]
  },
  {
   "cell_type": "markdown",
   "metadata": {},
   "source": [
    "We have a csv table on the google drive, that lists all of the models available"
   ]
  },
  {
   "cell_type": "code",
   "execution_count": 2,
   "metadata": {},
   "outputs": [
    {
     "data": {
      "text/html": [
       "<div>\n",
       "<style scoped>\n",
       "    .dataframe tbody tr th:only-of-type {\n",
       "        vertical-align: middle;\n",
       "    }\n",
       "\n",
       "    .dataframe tbody tr th {\n",
       "        vertical-align: top;\n",
       "    }\n",
       "\n",
       "    .dataframe thead th {\n",
       "        text-align: right;\n",
       "    }\n",
       "</style>\n",
       "<table border=\"1\" class=\"dataframe\">\n",
       "  <thead>\n",
       "    <tr style=\"text-align: right;\">\n",
       "      <th></th>\n",
       "      <th>Root</th>\n",
       "      <th>Teff</th>\n",
       "      <th>log(g)</th>\n",
       "      <th>Z</th>\n",
       "      <th>t</th>\n",
       "      <th>a</th>\n",
       "      <th>c</th>\n",
       "      <th>n</th>\n",
       "      <th>o</th>\n",
       "      <th>Mdot</th>\n",
       "      <th>vinfty</th>\n",
       "      <th>beta</th>\n",
       "      <th>finfty</th>\n",
       "      <th>vcl</th>\n",
       "    </tr>\n",
       "  </thead>\n",
       "  <tbody>\n",
       "    <tr>\n",
       "      <th>0</th>\n",
       "      <td>C_s12020g2.30z-0.01t5.0_a0.00c-0.26n0.59o0.00_...</td>\n",
       "      <td>12020</td>\n",
       "      <td>2.30</td>\n",
       "      <td>-0.01</td>\n",
       "      <td>5</td>\n",
       "      <td>0</td>\n",
       "      <td>-0.26</td>\n",
       "      <td>0.59</td>\n",
       "      <td>0.00</td>\n",
       "      <td>-7.39</td>\n",
       "      <td>975</td>\n",
       "      <td>1.0</td>\n",
       "      <td>1.0</td>\n",
       "      <td>0</td>\n",
       "    </tr>\n",
       "    <tr>\n",
       "      <th>1</th>\n",
       "      <td>C_s12050g2.18z-0.01t5.0_a0.00c-0.08n0.23o0.02_...</td>\n",
       "      <td>12050</td>\n",
       "      <td>2.18</td>\n",
       "      <td>-0.01</td>\n",
       "      <td>5</td>\n",
       "      <td>0</td>\n",
       "      <td>-0.08</td>\n",
       "      <td>0.23</td>\n",
       "      <td>0.02</td>\n",
       "      <td>-7.55</td>\n",
       "      <td>948</td>\n",
       "      <td>1.0</td>\n",
       "      <td>0.1</td>\n",
       "      <td>30</td>\n",
       "    </tr>\n",
       "    <tr>\n",
       "      <th>2</th>\n",
       "      <td>C_s12540g2.24z-0.01t5.0_a0.00c-0.02n1.14o0.02_...</td>\n",
       "      <td>12540</td>\n",
       "      <td>2.24</td>\n",
       "      <td>-0.01</td>\n",
       "      <td>5</td>\n",
       "      <td>0</td>\n",
       "      <td>-0.02</td>\n",
       "      <td>1.14</td>\n",
       "      <td>0.02</td>\n",
       "      <td>-7.30</td>\n",
       "      <td>981</td>\n",
       "      <td>1.0</td>\n",
       "      <td>0.1</td>\n",
       "      <td>30</td>\n",
       "    </tr>\n",
       "    <tr>\n",
       "      <th>3</th>\n",
       "      <td>C_s12790g2.15z0.00t5.0_a0.00c-0.30n0.65o-0.04_...</td>\n",
       "      <td>12790</td>\n",
       "      <td>2.15</td>\n",
       "      <td>0.00</td>\n",
       "      <td>5</td>\n",
       "      <td>0</td>\n",
       "      <td>-0.30</td>\n",
       "      <td>0.65</td>\n",
       "      <td>-0.04</td>\n",
       "      <td>-6.68</td>\n",
       "      <td>910</td>\n",
       "      <td>1.0</td>\n",
       "      <td>1.0</td>\n",
       "      <td>0</td>\n",
       "    </tr>\n",
       "    <tr>\n",
       "      <th>4</th>\n",
       "      <td>C_s13960g2.32z0.00t5.0_a0.00c-0.30n0.65o-0.04_...</td>\n",
       "      <td>13960</td>\n",
       "      <td>2.32</td>\n",
       "      <td>0.00</td>\n",
       "      <td>5</td>\n",
       "      <td>0</td>\n",
       "      <td>-0.30</td>\n",
       "      <td>0.65</td>\n",
       "      <td>-0.04</td>\n",
       "      <td>-6.76</td>\n",
       "      <td>1014</td>\n",
       "      <td>1.0</td>\n",
       "      <td>1.0</td>\n",
       "      <td>0</td>\n",
       "    </tr>\n",
       "    <tr>\n",
       "      <th>...</th>\n",
       "      <td>...</td>\n",
       "      <td>...</td>\n",
       "      <td>...</td>\n",
       "      <td>...</td>\n",
       "      <td>...</td>\n",
       "      <td>...</td>\n",
       "      <td>...</td>\n",
       "      <td>...</td>\n",
       "      <td>...</td>\n",
       "      <td>...</td>\n",
       "      <td>...</td>\n",
       "      <td>...</td>\n",
       "      <td>...</td>\n",
       "      <td>...</td>\n",
       "    </tr>\n",
       "    <tr>\n",
       "      <th>304</th>\n",
       "      <td>C_s57477g4.16z-0.42t10.0_a0.00c0.03n0.08o0.03_...</td>\n",
       "      <td>57477</td>\n",
       "      <td>4.16</td>\n",
       "      <td>-0.42</td>\n",
       "      <td>10</td>\n",
       "      <td>0</td>\n",
       "      <td>0.03</td>\n",
       "      <td>0.08</td>\n",
       "      <td>0.03</td>\n",
       "      <td>-4.71</td>\n",
       "      <td>3500</td>\n",
       "      <td>1.0</td>\n",
       "      <td>0.1</td>\n",
       "      <td>100</td>\n",
       "    </tr>\n",
       "    <tr>\n",
       "      <th>305</th>\n",
       "      <td>C_s58057g4.41z-1.48t10.0_a0.00c-0.01n-0.01o-0....</td>\n",
       "      <td>58057</td>\n",
       "      <td>4.41</td>\n",
       "      <td>-1.48</td>\n",
       "      <td>10</td>\n",
       "      <td>0</td>\n",
       "      <td>-0.01</td>\n",
       "      <td>-0.01</td>\n",
       "      <td>-0.01</td>\n",
       "      <td>-7.22</td>\n",
       "      <td>5000</td>\n",
       "      <td>1.0</td>\n",
       "      <td>0.1</td>\n",
       "      <td>100</td>\n",
       "    </tr>\n",
       "    <tr>\n",
       "      <th>306</th>\n",
       "      <td>C_s59406g4.28z-0.73t10.0_a0.00c0.02n0.02o0.02_...</td>\n",
       "      <td>59406</td>\n",
       "      <td>4.28</td>\n",
       "      <td>-0.73</td>\n",
       "      <td>10</td>\n",
       "      <td>0</td>\n",
       "      <td>0.02</td>\n",
       "      <td>0.02</td>\n",
       "      <td>0.02</td>\n",
       "      <td>-5.97</td>\n",
       "      <td>5220</td>\n",
       "      <td>1.0</td>\n",
       "      <td>0.1</td>\n",
       "      <td>100</td>\n",
       "    </tr>\n",
       "    <tr>\n",
       "      <th>307</th>\n",
       "      <td>C_s60690g4.41z-1.48t10.0_a0.00c-0.01n-0.01o-0....</td>\n",
       "      <td>60690</td>\n",
       "      <td>4.41</td>\n",
       "      <td>-1.48</td>\n",
       "      <td>10</td>\n",
       "      <td>0</td>\n",
       "      <td>-0.01</td>\n",
       "      <td>-0.01</td>\n",
       "      <td>-0.01</td>\n",
       "      <td>-6.99</td>\n",
       "      <td>5212</td>\n",
       "      <td>1.0</td>\n",
       "      <td>0.1</td>\n",
       "      <td>100</td>\n",
       "    </tr>\n",
       "    <tr>\n",
       "      <th>308</th>\n",
       "      <td>C_s63880g4.41z-1.48t10.0_a0.00c-0.01n-0.01o-0....</td>\n",
       "      <td>63880</td>\n",
       "      <td>4.41</td>\n",
       "      <td>-1.48</td>\n",
       "      <td>10</td>\n",
       "      <td>0</td>\n",
       "      <td>-0.01</td>\n",
       "      <td>-0.01</td>\n",
       "      <td>-0.01</td>\n",
       "      <td>-6.71</td>\n",
       "      <td>5649</td>\n",
       "      <td>1.0</td>\n",
       "      <td>0.1</td>\n",
       "      <td>100</td>\n",
       "    </tr>\n",
       "  </tbody>\n",
       "</table>\n",
       "<p>309 rows × 14 columns</p>\n",
       "</div>"
      ],
      "text/plain": [
       "                                                  Root   Teff  log(g)     Z  \\\n",
       "0    C_s12020g2.30z-0.01t5.0_a0.00c-0.26n0.59o0.00_...  12020    2.30 -0.01   \n",
       "1    C_s12050g2.18z-0.01t5.0_a0.00c-0.08n0.23o0.02_...  12050    2.18 -0.01   \n",
       "2    C_s12540g2.24z-0.01t5.0_a0.00c-0.02n1.14o0.02_...  12540    2.24 -0.01   \n",
       "3    C_s12790g2.15z0.00t5.0_a0.00c-0.30n0.65o-0.04_...  12790    2.15  0.00   \n",
       "4    C_s13960g2.32z0.00t5.0_a0.00c-0.30n0.65o-0.04_...  13960    2.32  0.00   \n",
       "..                                                 ...    ...     ...   ...   \n",
       "304  C_s57477g4.16z-0.42t10.0_a0.00c0.03n0.08o0.03_...  57477    4.16 -0.42   \n",
       "305  C_s58057g4.41z-1.48t10.0_a0.00c-0.01n-0.01o-0....  58057    4.41 -1.48   \n",
       "306  C_s59406g4.28z-0.73t10.0_a0.00c0.02n0.02o0.02_...  59406    4.28 -0.73   \n",
       "307  C_s60690g4.41z-1.48t10.0_a0.00c-0.01n-0.01o-0....  60690    4.41 -1.48   \n",
       "308  C_s63880g4.41z-1.48t10.0_a0.00c-0.01n-0.01o-0....  63880    4.41 -1.48   \n",
       "\n",
       "      t  a     c     n     o  Mdot  vinfty  beta  finfty  vcl  \n",
       "0     5  0 -0.26  0.59  0.00 -7.39     975   1.0     1.0    0  \n",
       "1     5  0 -0.08  0.23  0.02 -7.55     948   1.0     0.1   30  \n",
       "2     5  0 -0.02  1.14  0.02 -7.30     981   1.0     0.1   30  \n",
       "3     5  0 -0.30  0.65 -0.04 -6.68     910   1.0     1.0    0  \n",
       "4     5  0 -0.30  0.65 -0.04 -6.76    1014   1.0     1.0    0  \n",
       "..   .. ..   ...   ...   ...   ...     ...   ...     ...  ...  \n",
       "304  10  0  0.03  0.08  0.03 -4.71    3500   1.0     0.1  100  \n",
       "305  10  0 -0.01 -0.01 -0.01 -7.22    5000   1.0     0.1  100  \n",
       "306  10  0  0.02  0.02  0.02 -5.97    5220   1.0     0.1  100  \n",
       "307  10  0 -0.01 -0.01 -0.01 -6.99    5212   1.0     0.1  100  \n",
       "308  10  0 -0.01 -0.01 -0.01 -6.71    5649   1.0     0.1  100  \n",
       "\n",
       "[309 rows x 14 columns]"
      ]
     },
     "metadata": {},
     "output_type": "display_data"
    }
   ],
   "source": [
    "table = vp.cmfgen.get_table_galOB()\n",
    "display(table)"
   ]
  },
  {
   "cell_type": "markdown",
   "metadata": {},
   "source": [
    "The column \"Root\" gives the root of the filenames. There are three possible files available:\n",
    "* IR\n",
    "* VIS\n",
    "* UV\n",
    "that corresponds to their respective wavelength ranges. \n",
    "\n",
    "The file paths and names might be a bit difficult to remember (especially since values like the mass-loss rate are given with 3 significant digits), so we have a template path/name that we can access in the module:\n"
   ]
  },
  {
   "cell_type": "code",
   "execution_count": 3,
   "metadata": {},
   "outputs": [
    {
     "name": "stdout",
     "output_type": "stream",
     "text": [
      "ResearchGroupResources-Files/ReferenceMaterial/CMFGEN/CMFGEN-OB/{}_{}.spec\n"
     ]
    }
   ],
   "source": [
    "print(vp.cmfgen.galOB_path_name)"
   ]
  },
  {
   "cell_type": "markdown",
   "metadata": {},
   "source": [
    "and you can use the `format` function to add the root and the wavlength range that you would like to use. \n",
    "\n",
    "For example, I would like the models that have a temperature and log(g) that are the closest to 23000K and 4.0. "
   ]
  },
  {
   "cell_type": "code",
   "execution_count": 4,
   "metadata": {},
   "outputs": [
    {
     "data": {
      "text/html": [
       "<div>\n",
       "<style scoped>\n",
       "    .dataframe tbody tr th:only-of-type {\n",
       "        vertical-align: middle;\n",
       "    }\n",
       "\n",
       "    .dataframe tbody tr th {\n",
       "        vertical-align: top;\n",
       "    }\n",
       "\n",
       "    .dataframe thead th {\n",
       "        text-align: right;\n",
       "    }\n",
       "</style>\n",
       "<table border=\"1\" class=\"dataframe\">\n",
       "  <thead>\n",
       "    <tr style=\"text-align: right;\">\n",
       "      <th></th>\n",
       "      <th>Root</th>\n",
       "      <th>Teff</th>\n",
       "      <th>log(g)</th>\n",
       "      <th>Z</th>\n",
       "      <th>t</th>\n",
       "      <th>a</th>\n",
       "      <th>c</th>\n",
       "      <th>n</th>\n",
       "      <th>o</th>\n",
       "      <th>Mdot</th>\n",
       "      <th>vinfty</th>\n",
       "      <th>beta</th>\n",
       "      <th>finfty</th>\n",
       "      <th>vcl</th>\n",
       "    </tr>\n",
       "  </thead>\n",
       "  <tbody>\n",
       "    <tr>\n",
       "      <th>45</th>\n",
       "      <td>C_s23000g3.33z-0.01t5.0_a0.00c0.01n0.07o0.02_M...</td>\n",
       "      <td>23000</td>\n",
       "      <td>3.33</td>\n",
       "      <td>-0.01</td>\n",
       "      <td>5</td>\n",
       "      <td>0</td>\n",
       "      <td>0.01</td>\n",
       "      <td>0.07</td>\n",
       "      <td>0.02</td>\n",
       "      <td>-8.65</td>\n",
       "      <td>1900</td>\n",
       "      <td>1.0</td>\n",
       "      <td>0.1</td>\n",
       "      <td>30</td>\n",
       "    </tr>\n",
       "    <tr>\n",
       "      <th>46</th>\n",
       "      <td>C_s23000g3.80z-0.01t10.0_a0.00c-0.03n0.01o-0.0...</td>\n",
       "      <td>23000</td>\n",
       "      <td>3.80</td>\n",
       "      <td>-0.01</td>\n",
       "      <td>10</td>\n",
       "      <td>0</td>\n",
       "      <td>-0.03</td>\n",
       "      <td>0.01</td>\n",
       "      <td>-0.02</td>\n",
       "      <td>-9.00</td>\n",
       "      <td>1699</td>\n",
       "      <td>1.0</td>\n",
       "      <td>0.1</td>\n",
       "      <td>100</td>\n",
       "    </tr>\n",
       "    <tr>\n",
       "      <th>47</th>\n",
       "      <td>C_s23000g4.00z-0.01t10.0_a0.00c-0.03n0.01o-0.0...</td>\n",
       "      <td>23000</td>\n",
       "      <td>4.00</td>\n",
       "      <td>-0.01</td>\n",
       "      <td>10</td>\n",
       "      <td>0</td>\n",
       "      <td>-0.03</td>\n",
       "      <td>0.01</td>\n",
       "      <td>-0.02</td>\n",
       "      <td>-9.00</td>\n",
       "      <td>2145</td>\n",
       "      <td>1.0</td>\n",
       "      <td>0.1</td>\n",
       "      <td>100</td>\n",
       "    </tr>\n",
       "    <tr>\n",
       "      <th>48</th>\n",
       "      <td>C_s23000g4.20z-0.01t10.0_a0.00c-0.03n0.01o-0.0...</td>\n",
       "      <td>23000</td>\n",
       "      <td>4.20</td>\n",
       "      <td>-0.01</td>\n",
       "      <td>10</td>\n",
       "      <td>0</td>\n",
       "      <td>-0.03</td>\n",
       "      <td>0.01</td>\n",
       "      <td>-0.02</td>\n",
       "      <td>-9.00</td>\n",
       "      <td>2704</td>\n",
       "      <td>1.0</td>\n",
       "      <td>0.1</td>\n",
       "      <td>100</td>\n",
       "    </tr>\n",
       "    <tr>\n",
       "      <th>49</th>\n",
       "      <td>C_s23000g4.30z-0.01t10.0_a0.00c-0.03n0.01o-0.0...</td>\n",
       "      <td>23000</td>\n",
       "      <td>4.30</td>\n",
       "      <td>-0.01</td>\n",
       "      <td>10</td>\n",
       "      <td>0</td>\n",
       "      <td>-0.03</td>\n",
       "      <td>0.01</td>\n",
       "      <td>-0.02</td>\n",
       "      <td>-9.00</td>\n",
       "      <td>3037</td>\n",
       "      <td>1.0</td>\n",
       "      <td>0.1</td>\n",
       "      <td>100</td>\n",
       "    </tr>\n",
       "  </tbody>\n",
       "</table>\n",
       "</div>"
      ],
      "text/plain": [
       "                                                 Root   Teff  log(g)     Z  \\\n",
       "45  C_s23000g3.33z-0.01t5.0_a0.00c0.01n0.07o0.02_M...  23000    3.33 -0.01   \n",
       "46  C_s23000g3.80z-0.01t10.0_a0.00c-0.03n0.01o-0.0...  23000    3.80 -0.01   \n",
       "47  C_s23000g4.00z-0.01t10.0_a0.00c-0.03n0.01o-0.0...  23000    4.00 -0.01   \n",
       "48  C_s23000g4.20z-0.01t10.0_a0.00c-0.03n0.01o-0.0...  23000    4.20 -0.01   \n",
       "49  C_s23000g4.30z-0.01t10.0_a0.00c-0.03n0.01o-0.0...  23000    4.30 -0.01   \n",
       "\n",
       "     t  a     c     n     o  Mdot  vinfty  beta  finfty  vcl  \n",
       "45   5  0  0.01  0.07  0.02 -8.65    1900   1.0     0.1   30  \n",
       "46  10  0 -0.03  0.01 -0.02 -9.00    1699   1.0     0.1  100  \n",
       "47  10  0 -0.03  0.01 -0.02 -9.00    2145   1.0     0.1  100  \n",
       "48  10  0 -0.03  0.01 -0.02 -9.00    2704   1.0     0.1  100  \n",
       "49  10  0 -0.03  0.01 -0.02 -9.00    3037   1.0     0.1  100  "
      ]
     },
     "metadata": {},
     "output_type": "display_data"
    }
   ],
   "source": [
    "diff = (table['Teff'] - 23000).abs()\n",
    "display(table[diff == diff.min()])"
   ]
  },
  {
   "cell_type": "markdown",
   "metadata": {},
   "source": [
    "Look like the row I want is the row #47, so I can get the root name for the file"
   ]
  },
  {
   "cell_type": "code",
   "execution_count": 5,
   "metadata": {},
   "outputs": [
    {
     "name": "stdout",
     "output_type": "stream",
     "text": [
      "ResearchGroupResources-Files/ReferenceMaterial/CMFGEN/CMFGEN-OB/C_s23000g4.00z-0.01t10.0_a0.00c-0.03n0.01o-0.02_Mdot-9.00Vinfty2145beta1.0finfty0.1vcl100_VIS.spec\n"
     ]
    }
   ],
   "source": [
    "root = table.loc[47,\"Root\"]\n",
    "\n",
    "my_model_name = vp.cmfgen.galOB_path_name.format(root,'VIS')\n",
    "print(my_model_name)"
   ]
  },
  {
   "cell_type": "markdown",
   "metadata": {},
   "source": [
    "## 2. How to read in a synthetic spectrum"
   ]
  },
  {
   "cell_type": "markdown",
   "metadata": {},
   "source": [
    "We can read in one of the synthetic spectrum using the `read` function in the `cmfgen` module."
   ]
  },
  {
   "cell_type": "code",
   "execution_count": 6,
   "metadata": {},
   "outputs": [],
   "source": [
    "spec, spec_norm = vp.cmfgen.read(path_google+my_model_name)"
   ]
  },
  {
   "cell_type": "code",
   "execution_count": 7,
   "metadata": {},
   "outputs": [
    {
     "data": {
      "text/plain": [
       "[<matplotlib.lines.Line2D at 0x124e2ed30>]"
      ]
     },
     "execution_count": 7,
     "metadata": {},
     "output_type": "execute_result"
    },
    {
     "data": {
      "image/png": "[encoded data removed]",
      "text/plain": [
       "<Figure size 640x480 with 1 Axes>"
      ]
     },
     "metadata": {},
     "output_type": "display_data"
    },
    {
     "data": {
      "image/png": "[encoded data removed]",
      "text/plain": [
       "<Figure size 640x480 with 1 Axes>"
      ]
     },
     "metadata": {},
     "output_type": "display_data"
    }
   ],
   "source": [
    "fig, ax = plt.subplots(1,1)\n",
    "ax.plot(spec.wl, spec.specI)\n",
    "\n",
    "fig, ax = plt.subplots(1,1)\n",
    "ax.plot(spec_norm.wl, spec_norm.specI)"
   ]
  }
 ],
 "metadata": {
  "kernelspec": {
   "display_name": "py39",
   "language": "python",
   "name": "python3"
  },
  "language_info": {
   "codemirror_mode": {
    "name": "ipython",
    "version": 3
   },
   "file_extension": ".py",
   "mimetype": "text/x-python",
   "name": "python",
   "nbconvert_exporter": "python",
   "pygments_lexer": "ipython3",
   "version": "3.9.18"
  }
 },
 "nbformat": 4,
 "nbformat_minor": 2
}
